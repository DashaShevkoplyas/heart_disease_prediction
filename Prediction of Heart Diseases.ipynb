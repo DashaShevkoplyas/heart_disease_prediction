{
 "cells": [
  {
   "cell_type": "markdown",
   "metadata": {},
   "source": [
    "\n",
    "<font size=\"5\"><b>Heart Disease Prediction</b></font>"
   ]
  },
  {
   "cell_type": "markdown",
   "metadata": {},
   "source": [
    "Primary <b>goal</b> of our machine learning project is to process several datasets and, based on results, predict whether any person is suffering from any heart disease in total and, if so exists, figure out the total average of people exposed to heart diseases and what are the most common factors that influence on it.\n",
    "We will use two datasets from <b>Kaggle</b>:\n",
    "1. <a href=\"https://www.kaggle.com/ronitf/heart-disease-uci\">Heart Disease UCI</a> \n",
    "2. <a href=\"https://www.kaggle.com/sulianova/cardiovascular-disease-dataset\">Cardiovascular Disease dataset</a> "
   ]
  },
  {
   "cell_type": "markdown",
   "metadata": {},
   "source": [
    "First of all, we want to compare both datasets: with heart diseases and сardiovascular diseases, as, in our mind, it could help us to see the common data, that exists for both of datasets and then make a conclusion if it's rational to obtain and compare after the results from the datasets for future predictions.\n",
    "Also, by comparing of data sets, we will be able to figure out if the information from the selected datasets is relevant and satisfiable for achieving our goal."
   ]
  },
  {
   "cell_type": "code",
   "execution_count": 42,
   "metadata": {},
   "outputs": [
    {
     "name": "stdout",
     "output_type": "stream",
     "text": [
      "   age  sex  cp  trestbps  chol  fbs  restecg  thalach  exang  oldpeak  slope  \\\n",
      "0   63    1   3       145   233    1        0      150      0      2.3      0   \n",
      "1   37    1   2       130   250    0        1      187      0      3.5      0   \n",
      "2   41    0   1       130   204    0        0      172      0      1.4      2   \n",
      "3   56    1   1       120   236    0        1      178      0      0.8      2   \n",
      "4   57    0   0       120   354    0        1      163      1      0.6      2   \n",
      "5   57    1   0       140   192    0        1      148      0      0.4      1   \n",
      "6   56    0   1       140   294    0        0      153      0      1.3      1   \n",
      "7   44    1   1       120   263    0        1      173      0      0.0      2   \n",
      "8   52    1   2       172   199    1        1      162      0      0.5      2   \n",
      "9   57    1   2       150   168    0        1      174      0      1.6      2   \n",
      "\n",
      "   ca  thal  target  \n",
      "0   0     1       1  \n",
      "1   0     2       1  \n",
      "2   0     2       1  \n",
      "3   0     2       1  \n",
      "4   0     2       1  \n",
      "5   0     1       1  \n",
      "6   0     2       1  \n",
      "7   0     3       1  \n",
      "8   0     3       1  \n",
      "9   0     2       1  \n"
     ]
    }
   ],
   "source": [
    "import datacompy, pandas as pd\n",
    "\n",
    "df1 = pd.read_csv('heart.csv')\n",
    "print(df1.head(10))"
   ]
  },
  {
   "cell_type": "code",
   "execution_count": 43,
   "metadata": {},
   "outputs": [
    {
     "name": "stdout",
     "output_type": "stream",
     "text": [
      "   id    age  sex  height  weight  ap_hi  ap_lo  cholesterol  gluc  smoke  \\\n",
      "0   0  18393    1     168    62.0    110     80            1     1      0   \n",
      "1   1  20228    0     156    85.0    140     90            3     1      0   \n",
      "2   2  18857    0     165    64.0    130     70            3     1      0   \n",
      "3   3  17623    1     169    82.0    150    100            1     1      0   \n",
      "4   4  17474    0     156    56.0    100     60            1     1      0   \n",
      "5   8  21914    0     151    67.0    120     80            2     2      0   \n",
      "6   9  22113    0     157    93.0    130     80            3     1      0   \n",
      "7  12  22584    1     178    95.0    130     90            3     3      0   \n",
      "8  13  17668    0     158    71.0    110     70            1     1      0   \n",
      "9  14  19834    0     164    68.0    110     60            1     1      0   \n",
      "\n",
      "   alco  active  cardio  \n",
      "0     0       1       0  \n",
      "1     0       1       1  \n",
      "2     0       0       1  \n",
      "3     0       1       1  \n",
      "4     0       0       0  \n",
      "5     0       0       0  \n",
      "6     0       1       0  \n",
      "7     0       1       1  \n",
      "8     0       1       0  \n",
      "9     0       0       0  \n"
     ]
    }
   ],
   "source": [
    "df2 = pd.read_csv('cardio_train.csv', sep=';')\n",
    "df2['gender'].replace(to_replace=[2, 1],value=[1,0],inplace=True)\n",
    "df2.rename(columns={'gender':'sex'}, inplace=True)\n",
    "print(df2.head(10))"
   ]
  },
  {
   "cell_type": "code",
   "execution_count": null,
   "metadata": {},
   "outputs": [],
   "source": []
  }
 ],
 "metadata": {
  "kernelspec": {
   "display_name": "Python 3",
   "language": "python",
   "name": "python3"
  },
  "language_info": {
   "codemirror_mode": {
    "name": "ipython",
    "version": 3
   },
   "file_extension": ".py",
   "mimetype": "text/x-python",
   "name": "python",
   "nbconvert_exporter": "python",
   "pygments_lexer": "ipython3",
   "version": "3.7.3"
  }
 },
 "nbformat": 4,
 "nbformat_minor": 2
}
